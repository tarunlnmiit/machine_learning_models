{
 "cells": [
  {
   "cell_type": "code",
   "execution_count": 31,
   "metadata": {},
   "outputs": [],
   "source": [
    "import matplotlib.pyplot as plt\n",
    "import numpy as np\n",
    "from sklearn import datasets\n",
    "from sklearn.model_selection import train_test_split, cross_validate, GridSearchCV, KFold, cross_val_score\n",
    "from sklearn.preprocessing import StandardScaler\n",
    "from sklearn.neighbors import KNeighborsClassifier\n",
    "from sklearn.metrics import confusion_matrix, mean_squared_error, accuracy_score"
   ]
  },
  {
   "cell_type": "code",
   "execution_count": 32,
   "metadata": {},
   "outputs": [],
   "source": [
    "# import some data to play with\n",
    "iris = datasets.load_iris()\n",
    "X = iris.data[:, :4]  # we only take the first two features.\n",
    "y = iris.target"
   ]
  },
  {
   "cell_type": "code",
   "execution_count": 33,
   "metadata": {},
   "outputs": [],
   "source": [
    "X_train, X_test, y_train, y_test = train_test_split(X, y, test_size=0.25, random_state=0)\n",
    "X_train, X_val, y_train, y_val = train_test_split(X_train, y_train, test_size=0.33, random_state=0)"
   ]
  },
  {
   "cell_type": "code",
   "execution_count": 34,
   "metadata": {},
   "outputs": [],
   "source": [
    "sc = StandardScaler()\n",
    "X_train = sc.fit_transform(X_train)\n",
    "X_test = sc.transform(X_test)\n",
    "X_val = sc.transform(X_val)"
   ]
  },
  {
   "cell_type": "code",
   "execution_count": 35,
   "metadata": {},
   "outputs": [
    {
     "data": {
      "image/png": "[encoded data removed]",
      "text/plain": [
       "<Figure size 432x288 with 1 Axes>"
      ]
     },
     "metadata": {
      "needs_background": "light"
     },
     "output_type": "display_data"
    }
   ],
   "source": [
    "classifiers = []\n",
    "k_values = range(1,6,2)\n",
    "val_pred_errors = []\n",
    "train_errors = []\n",
    "preds = []\n",
    "for n in k_values:\n",
    "    classifier = KNeighborsClassifier(n_neighbors=n, metric='minkowski', p=2)\n",
    "    classifier.fit(X_train, y_train)\n",
    "    classifiers.append(classifier)\n",
    "    \n",
    "    y_val_pred = classifier.predict(X_val)\n",
    "    preds.append(y_val_pred)\n",
    "    cm = confusion_matrix(y_val, y_val_pred)\n",
    "#     print(cm)\n",
    "    val_pred_error = mean_squared_error(y_val, y_val_pred)\n",
    "    val_pred_errors.append(val_pred_error)\n",
    "    \n",
    "    train_error = mean_squared_error(y_train, classifier.predict(X_train))\n",
    "    train_errors.append(train_error)\n",
    "    \n",
    "plt.plot(k_values, val_pred_errors)\n",
    "plt.plot(k_values, train_errors)\n",
    "plt.legend(('Validation Error', 'Train Error'))\n",
    "plt.show()"
   ]
  },
  {
   "cell_type": "code",
   "execution_count": 36,
   "metadata": {},
   "outputs": [
    {
     "name": "stdout",
     "output_type": "stream",
     "text": [
      "0.933 (+/-0.122) for {'algorithm': 'auto', 'n_neighbors': 1}\n",
      "0.897 (+/-0.129) for {'algorithm': 'auto', 'n_neighbors': 2}\n",
      "0.921 (+/-0.101) for {'algorithm': 'auto', 'n_neighbors': 3}\n",
      "0.950 (+/-0.092) for {'algorithm': 'auto', 'n_neighbors': 4}\n",
      "0.949 (+/-0.099) for {'algorithm': 'auto', 'n_neighbors': 5}\n",
      "0.937 (+/-0.137) for {'algorithm': 'auto', 'n_neighbors': 6}\n",
      "0.948 (+/-0.102) for {'algorithm': 'auto', 'n_neighbors': 7}\n",
      "0.924 (+/-0.145) for {'algorithm': 'auto', 'n_neighbors': 8}\n",
      "0.936 (+/-0.117) for {'algorithm': 'auto', 'n_neighbors': 9}\n",
      "0.924 (+/-0.145) for {'algorithm': 'auto', 'n_neighbors': 10}\n",
      "0.950 (+/-0.092) for {'algorithm': 'auto', 'n_neighbors': 11}\n",
      "0.936 (+/-0.078) for {'algorithm': 'auto', 'n_neighbors': 12}\n",
      "0.937 (+/-0.115) for {'algorithm': 'auto', 'n_neighbors': 13}\n",
      "0.924 (+/-0.124) for {'algorithm': 'auto', 'n_neighbors': 14}\n",
      "0.911 (+/-0.100) for {'algorithm': 'auto', 'n_neighbors': 15}\n",
      "\n",
      "Best Parameter Observed : \n",
      "______________________________\n",
      "\n",
      "{'algorithm': 'auto', 'n_neighbors': 4}\n",
      "\n"
     ]
    }
   ],
   "source": [
    "tuned_parameters = [{'algorithm': ['auto'], 'n_neighbors': range(1,16)}]\n",
    "scores = ['accuracy']\n",
    "\n",
    "\n",
    "clf = GridSearchCV(KNeighborsClassifier(), tuned_parameters, scoring='f1_macro')\n",
    "clf.fit(X_train, y_train)\n",
    "\n",
    "means = clf.cv_results_['mean_test_score']\n",
    "stds = clf.cv_results_['std_test_score']\n",
    "for mean, std, params in zip(means, stds, clf.cv_results_['params']):\n",
    "          print(\"%0.3f (+/-%0.03f) for %r\"\n",
    "          % (mean, std * 2, params))\n",
    "print()\n",
    "\n",
    "print(\"Best Parameter Observed : \")\n",
    "print(\"_\" *30)\n",
    "print()\n",
    "print(clf.best_params_)\n",
    "print()"
   ]
  },
  {
   "cell_type": "code",
   "execution_count": 37,
   "metadata": {},
   "outputs": [
    {
     "name": "stdout",
     "output_type": "stream",
     "text": [
      "[[14  0  0]\n",
      " [ 0  9  0]\n",
      " [ 0  1 13]] 0.07894736842105263\n",
      "[[14  0  0]\n",
      " [ 0  9  0]\n",
      " [ 0  1 13]] 0.02631578947368421\n",
      "[[14  0  0]\n",
      " [ 0  9  0]\n",
      " [ 0  1 13]] 0.02631578947368421\n"
     ]
    }
   ],
   "source": [
    "win_clf = classifiers[1]\n",
    "for clf in classifiers:\n",
    "    y_pred_test = clf.predict(X_test)\n",
    "    cm = confusion_matrix(y_val, y_val_pred)\n",
    "    test_pred_error = mean_squared_error(y_test, y_pred_test)\n",
    "\n",
    "    print(cm, test_pred_error)"
   ]
  },
  {
   "cell_type": "code",
   "execution_count": 41,
   "metadata": {},
   "outputs": [
    {
     "name": "stdout",
     "output_type": "stream",
     "text": [
      "____________________________________________________________\n",
      "K-Value: 1\n",
      "Mean Test Accuracies  0.9470355731225297\n",
      "Average error :   0.05296442687747027\n",
      "____________________________________________________________\n",
      "K-Value: 3\n",
      "Mean Test Accuracies  0.9640316205533598\n",
      "Average error :   0.03596837944664022\n",
      "____________________________________________________________\n",
      "K-Value: 5\n",
      "Mean Test Accuracies  0.9640316205533598\n",
      "Average error :   0.03596837944664022\n"
     ]
    }
   ],
   "source": [
    "X_train, X_test, y_train, y_test = train_test_split(X, y, test_size=0.25, random_state=0)\n",
    "kf = KFold(n_splits=5,shuffle=True)\n",
    "\n",
    "train_accuracies = []\n",
    "test_accuracies = []\n",
    "\n",
    "for k in k_values:  \n",
    "    print(\"_\" *60)\n",
    "    print(\"K-Value: \"+ str(k))\n",
    "    model_knn = KNeighborsClassifier(n_neighbors=k)\n",
    "    \n",
    "    test_acc_e= []\n",
    "    scores_e = []\n",
    "    for train_index, test_index in kf.split(X_train):\n",
    "        X_train_e, X_test_e, y_train_e, y_test_e = X_train[train_index], X_train[test_index], y_train[train_index], y_train[test_index]\n",
    "        model_e = model_knn.fit(X_train_e,y_train_e)\n",
    "        pred_e = model_e.predict(X_test_e)\n",
    "        testacc_e = accuracy_score(y_test_e, pred_e)\n",
    "        test_acc_e.append(testacc_e)\n",
    "        \n",
    "        scores_e.append(model_e.score(X_test_e,y_test_e))\n",
    "    print(\"Mean Test Accuracies \" , np.mean(test_acc_e))\n",
    "    print(\"Average error :  \", (1-np.mean(scores_e)))"
   ]
  },
  {
   "cell_type": "code",
   "execution_count": null,
   "metadata": {},
   "outputs": [],
   "source": []
  }
 ],
 "metadata": {
  "kernelspec": {
   "display_name": "Python 3",
   "language": "python",
   "name": "python3"
  },
  "language_info": {
   "codemirror_mode": {
    "name": "ipython",
    "version": 3
   },
   "file_extension": ".py",
   "mimetype": "text/x-python",
   "name": "python",
   "nbconvert_exporter": "python",
   "pygments_lexer": "ipython3",
   "version": "3.7.7"
  }
 },
 "nbformat": 4,
 "nbformat_minor": 4
}
