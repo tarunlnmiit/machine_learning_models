{
 "cells": [
  {
   "cell_type": "code",
   "execution_count": 44,
   "metadata": {},
   "outputs": [],
   "source": [
    "from sklearn.datasets import fetch_20newsgroups\n",
    "from sklearn.feature_extraction.text import CountVectorizer\n",
    "from sklearn.tree import DecisionTreeClassifier\n",
    "from sklearn.model_selection import train_test_split\n",
    "from sklearn.linear_model import LogisticRegression\n",
    "from sklearn.metrics import confusion_matrix, accuracy_score, classification_report\n",
    "\n",
    "from mlxtend.evaluate import paired_ttest_5x2cv\n",
    "from pprint import pprint"
   ]
  },
  {
   "cell_type": "code",
   "execution_count": 45,
   "metadata": {},
   "outputs": [],
   "source": [
    "categories = [\n",
    "        'alt.atheism',\n",
    "        'talk.religion.misc',\n",
    "        'comp.graphics',\n",
    "        'sci.space',\n",
    "    ]\n",
    "remove = ('headers', 'footers', 'quotes')"
   ]
  },
  {
   "cell_type": "code",
   "execution_count": 46,
   "metadata": {},
   "outputs": [],
   "source": [
    "dataset = fetch_20newsgroups(subset='all', categories=categories,\n",
    "                                shuffle=True, random_state=42,\n",
    "                                remove=remove)\n",
    "X = dataset.data\n",
    "y = dataset.target"
   ]
  },
  {
   "cell_type": "code",
   "execution_count": 47,
   "metadata": {},
   "outputs": [],
   "source": [
    "vectorizer = CountVectorizer(max_df=1.0,stop_words='english')\n",
    "X = vectorizer.fit_transform(X)\n",
    "\n",
    "feature_names = vectorizer.get_feature_names()"
   ]
  },
  {
   "cell_type": "code",
   "execution_count": 48,
   "metadata": {},
   "outputs": [],
   "source": [
    "X_train, X_test, y_train, y_test = train_test_split(X, y, test_size=0.33, shuffle=True, stratify= y,random_state=42)"
   ]
  },
  {
   "cell_type": "code",
   "execution_count": 54,
   "metadata": {},
   "outputs": [
    {
     "name": "stdout",
     "output_type": "stream",
     "text": [
      "Train accuracy:   0.98193\n",
      "Test accuracy:   0.80501\n",
      "classification report:\n",
      "              precision    recall  f1-score   support\n",
      "\n",
      "           0       0.74      0.72      0.73       264\n",
      "           1       0.89      0.91      0.90       321\n",
      "           2       0.82      0.88      0.85       326\n",
      "           3       0.72      0.63      0.67       207\n",
      "\n",
      "    accuracy                           0.81      1118\n",
      "   macro avg       0.79      0.79      0.79      1118\n",
      "weighted avg       0.80      0.81      0.80      1118\n",
      "\n",
      "confusion matrix:\n",
      "[[190  12  22  40]\n",
      " [  7 292  19   3]\n",
      " [ 16  15 288   7]\n",
      " [ 45   9  23 130]]\n"
     ]
    }
   ],
   "source": [
    "# clf_lr = LogisticRegression(penalty=\"l1\",random_state=42,max_iter=500,solver='liblinear')\n",
    "clf_lr = LogisticRegression(penalty=\"l2\",random_state=42,max_iter=500)\n",
    "clf_lr.fit(X_train, y_train)\n",
    "\n",
    "train_score = accuracy_score(y_train, clf_lr.predict(X_train))\n",
    "print(\"Train accuracy:   %0.5f\" % train_score)\n",
    "\n",
    "pred = clf_lr.predict(X_test)\n",
    "    \n",
    "score = accuracy_score(y_test, pred)\n",
    "print(\"Test accuracy:   %0.5f\" % score)\n",
    "\n",
    "print(\"classification report:\")\n",
    "print(classification_report(y_test, pred))\n",
    "\n",
    "print(\"confusion matrix:\")\n",
    "print(confusion_matrix(y_test, pred))"
   ]
  },
  {
   "cell_type": "code",
   "execution_count": 55,
   "metadata": {},
   "outputs": [
    {
     "name": "stdout",
     "output_type": "stream",
     "text": [
      "Train accuracy:   0.98237\n",
      "Test accuracy:   0.62433\n",
      "classification report:\n",
      "              precision    recall  f1-score   support\n",
      "\n",
      "           0       0.51      0.48      0.50       264\n",
      "           1       0.76      0.76      0.76       321\n",
      "           2       0.62      0.70      0.66       326\n",
      "           3       0.54      0.48      0.51       207\n",
      "\n",
      "    accuracy                           0.62      1118\n",
      "   macro avg       0.61      0.60      0.61      1118\n",
      "weighted avg       0.62      0.62      0.62      1118\n",
      "\n",
      "confusion matrix:\n",
      "[[126  28  48  62]\n",
      " [ 17 245  52   7]\n",
      " [ 48  34 228  16]\n",
      " [ 54  15  39  99]]\n"
     ]
    }
   ],
   "source": [
    "clf_dt = DecisionTreeClassifier(criterion='entropy', random_state=42)\n",
    "clf_dt.fit(X_train, y_train)\n",
    "\n",
    "train_score = accuracy_score(y_train, clf_dt.predict(X_train))\n",
    "print(\"Train accuracy:   %0.5f\" % train_score)\n",
    "\n",
    "pred = clf_dt.predict(X_test)\n",
    "    \n",
    "score = accuracy_score(y_test, pred)\n",
    "print(\"Test accuracy:   %0.5f\" % score)\n",
    "\n",
    "print(\"classification report:\")\n",
    "print(classification_report(y_test, pred))\n",
    "\n",
    "print(\"confusion matrix:\")\n",
    "print(confusion_matrix(y_test, pred))"
   ]
  },
  {
   "cell_type": "code",
   "execution_count": 56,
   "metadata": {},
   "outputs": [
    {
     "name": "stdout",
     "output_type": "stream",
     "text": [
      "t statistic: 10.365098985\n",
      "p value: 0.000143904\n"
     ]
    }
   ],
   "source": [
    "t, p = paired_ttest_5x2cv(estimator1=clf_lr,\n",
    "                          estimator2=clf_dt,\n",
    "                          X=X, y=y,\n",
    "                          random_seed=42)\n",
    "\n",
    "print('t statistic: %.9f' % t)\n",
    "print('p value: %.9f' % p)"
   ]
  },
  {
   "cell_type": "code",
   "execution_count": null,
   "metadata": {},
   "outputs": [],
   "source": []
  }
 ],
 "metadata": {
  "kernelspec": {
   "display_name": "Python 3",
   "language": "python",
   "name": "python3"
  },
  "language_info": {
   "codemirror_mode": {
    "name": "ipython",
    "version": 3
   },
   "file_extension": ".py",
   "mimetype": "text/x-python",
   "name": "python",
   "nbconvert_exporter": "python",
   "pygments_lexer": "ipython3",
   "version": "3.7.7"
  }
 },
 "nbformat": 4,
 "nbformat_minor": 4
}
