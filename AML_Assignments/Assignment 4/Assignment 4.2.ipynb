{
 "cells": [
  {
   "cell_type": "markdown",
   "metadata": {},
   "source": [
    "## **no sklearn cross validation or model selection feature.... try to not use it as much as possible**"
   ]
  },
  {
   "cell_type": "code",
   "execution_count": 1,
   "metadata": {},
   "outputs": [],
   "source": [
    "import numpy as np\n",
    "import pandas as pd\n",
    "import matplotlib.pyplot as plt\n",
    "import seaborn as sns\n",
    "\n",
    "\n",
    "import warnings\n",
    "warnings.filterwarnings(\"ignore\")"
   ]
  },
  {
   "cell_type": "code",
   "execution_count": 2,
   "metadata": {},
   "outputs": [],
   "source": [
    "## dataframe\n",
    "\n",
    "iris_data = pd.read_csv(r\"iris.csv\")\n",
    "column=[\"SepalLengthCm\", \"SepalWidthCm\", \"PetalLengthCm\", \"PetalWidthCm\", \"Species\"]\n",
    "\n",
    "iris_data.columns = column\n",
    "\n"
   ]
  },
  {
   "cell_type": "code",
   "execution_count": 3,
   "metadata": {},
   "outputs": [],
   "source": [
    "## numpy array\n",
    "\n",
    "from sklearn import datasets\n",
    "iris = datasets.load_iris()\n",
    "y = iris.target\n",
    "X = iris.data"
   ]
  },
  {
   "cell_type": "markdown",
   "metadata": {},
   "source": [
    "#### Task A"
   ]
  },
  {
   "cell_type": "code",
   "execution_count": 4,
   "metadata": {},
   "outputs": [],
   "source": [
    "train, validate, test = np.split(iris_data.sample(frac=1), [int(.5*len(iris_data)), int(.75*len(iris_data))])"
   ]
  },
  {
   "cell_type": "code",
   "execution_count": 5,
   "metadata": {},
   "outputs": [
    {
     "name": "stdout",
     "output_type": "stream",
     "text": [
      "75\n",
      "37\n",
      "38\n",
      "<class 'pandas.core.frame.DataFrame'>\n"
     ]
    }
   ],
   "source": [
    "print(len(train))\n",
    "print(len(validate))\n",
    "print(len(test))\n",
    "\n",
    "print(type(validate))"
   ]
  },
  {
   "cell_type": "markdown",
   "metadata": {},
   "source": [
    "#### Task B"
   ]
  },
  {
   "cell_type": "code",
   "execution_count": 6,
   "metadata": {},
   "outputs": [],
   "source": [
    "from sklearn.neighbors import KNeighborsClassifier\n",
    "from sklearn.model_selection import GridSearchCV\n",
    "\n",
    "from sklearn import metrics"
   ]
  },
  {
   "cell_type": "markdown",
   "metadata": {},
   "source": [
    "Training on k=1,3,5"
   ]
  },
  {
   "cell_type": "code",
   "execution_count": 7,
   "metadata": {},
   "outputs": [],
   "source": [
    "k_value_trials = [1,3,5]\n",
    "\n",
    "train_accuracies = []\n",
    "test_accuracies = []"
   ]
  },
  {
   "cell_type": "code",
   "execution_count": 8,
   "metadata": {},
   "outputs": [
    {
     "name": "stdout",
     "output_type": "stream",
     "text": [
      "______________________________________________________________\n",
      "K-Value used for this round of Classification is : 1\n",
      "Training Accuracy for the Model:   1.00000\n",
      "Observed Validation Accuracy:   0.97297\n",
      "Comparison of Classification :  \n",
      "              precision    recall  f1-score   support\n",
      "\n",
      "      setosa       1.00      1.00      1.00        15\n",
      "  versicolor       1.00      0.90      0.95        10\n",
      "   virginica       0.92      1.00      0.96        12\n",
      "\n",
      "    accuracy                           0.97        37\n",
      "   macro avg       0.97      0.97      0.97        37\n",
      "weighted avg       0.98      0.97      0.97        37\n",
      "\n",
      "Representation Using Confusion Matrix:\n",
      "[[15  0  0]\n",
      " [ 0  9  1]\n",
      " [ 0  0 12]]\n",
      "______________________________________________________________\n",
      "K-Value used for this round of Classification is : 3\n",
      "Training Accuracy for the Model:   0.96000\n",
      "Observed Validation Accuracy:   0.97297\n",
      "Comparison of Classification :  \n",
      "              precision    recall  f1-score   support\n",
      "\n",
      "      setosa       1.00      1.00      1.00        15\n",
      "  versicolor       1.00      0.90      0.95        10\n",
      "   virginica       0.92      1.00      0.96        12\n",
      "\n",
      "    accuracy                           0.97        37\n",
      "   macro avg       0.97      0.97      0.97        37\n",
      "weighted avg       0.98      0.97      0.97        37\n",
      "\n",
      "Representation Using Confusion Matrix:\n",
      "[[15  0  0]\n",
      " [ 0  9  1]\n",
      " [ 0  0 12]]\n",
      "______________________________________________________________\n",
      "K-Value used for this round of Classification is : 5\n",
      "Training Accuracy for the Model:   0.97333\n",
      "Observed Validation Accuracy:   0.97297\n",
      "Comparison of Classification :  \n",
      "              precision    recall  f1-score   support\n",
      "\n",
      "      setosa       1.00      1.00      1.00        15\n",
      "  versicolor       1.00      0.90      0.95        10\n",
      "   virginica       0.92      1.00      0.96        12\n",
      "\n",
      "    accuracy                           0.97        37\n",
      "   macro avg       0.97      0.97      0.97        37\n",
      "weighted avg       0.98      0.97      0.97        37\n",
      "\n",
      "Representation Using Confusion Matrix:\n",
      "[[15  0  0]\n",
      " [ 0  9  1]\n",
      " [ 0  0 12]]\n"
     ]
    }
   ],
   "source": [
    "for k in k_value_trials:\n",
    "    \n",
    "    \n",
    "    print(\"_\" *62)\n",
    "    print(\"K-Value used for this round of Classification is : \"+ str(k))\n",
    "    model_knn = KNeighborsClassifier(n_neighbors=k, metric='minkowski', p=2)\n",
    "    model_knn.fit(train.iloc[:,0:4], train.iloc[:,-1:])\n",
    "    train_score = metrics.accuracy_score(train.iloc[:,-1:], model_knn.predict(train.iloc[:,0:4]))\n",
    "    print(\"Training Accuracy for the Model:   %0.5f\" % train_score)\n",
    "    train_accuracies.append(train_score)\n",
    "    \n",
    "    pred = model_knn.predict(validate.iloc[:,0:4])\n",
    "\n",
    "    score = metrics.accuracy_score(validate.iloc[:,-1:], pred)\n",
    "    print(\"Observed Validation Accuracy:   %0.5f\" % score)\n",
    "    test_accuracies.append(score)\n",
    "\n",
    "    print(\"Comparison of Classification :  \")\n",
    "    print(metrics.classification_report(validate.iloc[:,-1:], pred))\n",
    "\n",
    "    print(\"Representation Using Confusion Matrix:\")\n",
    "    print(metrics.confusion_matrix(validate.iloc[:,-1:], pred))"
   ]
  },
  {
   "cell_type": "code",
   "execution_count": 9,
   "metadata": {},
   "outputs": [
    {
     "data": {
      "image/png": "[encoded data removed]",
      "text/plain": [
       "<Figure size 864x360 with 1 Axes>"
      ]
     },
     "metadata": {
      "needs_background": "light"
     },
     "output_type": "display_data"
    }
   ],
   "source": [
    "plt.figure(figsize=(12,5))\n",
    "p = sns.lineplot(k_value_trials,train_accuracies,marker='x',label=\"Achieved Training Scores\")\n",
    "p = sns.lineplot(k_value_trials,test_accuracies,marker='o',label=\"Observed Validation Scores\")"
   ]
  },
  {
   "cell_type": "markdown",
   "metadata": {},
   "source": [
    "#### Task C ---- Optional"
   ]
  },
  {
   "cell_type": "code",
   "execution_count": 10,
   "metadata": {},
   "outputs": [
    {
     "name": "stdout",
     "output_type": "stream",
     "text": [
      "Grid Search Utility for Finding an Optimal Value of k\n",
      "_______________________________________________________\n",
      "Tuning the hyperparameter for improved accuracy...\n",
      "\n",
      "Achieved Grid Scores :\n",
      "______________________________\n",
      "\n",
      "0.934 (+/-0.174) for {'algorithm': 'auto', 'n_neighbors': 1}\n",
      "0.921 (+/-0.171) for {'algorithm': 'auto', 'n_neighbors': 2}\n",
      "0.934 (+/-0.133) for {'algorithm': 'auto', 'n_neighbors': 3}\n",
      "0.948 (+/-0.127) for {'algorithm': 'auto', 'n_neighbors': 4}\n",
      "0.975 (+/-0.100) for {'algorithm': 'auto', 'n_neighbors': 5}\n",
      "0.975 (+/-0.100) for {'algorithm': 'auto', 'n_neighbors': 6}\n",
      "0.963 (+/-0.115) for {'algorithm': 'auto', 'n_neighbors': 7}\n",
      "0.948 (+/-0.127) for {'algorithm': 'auto', 'n_neighbors': 8}\n",
      "0.963 (+/-0.115) for {'algorithm': 'auto', 'n_neighbors': 9}\n",
      "0.975 (+/-0.100) for {'algorithm': 'auto', 'n_neighbors': 10}\n",
      "0.963 (+/-0.115) for {'algorithm': 'auto', 'n_neighbors': 11}\n",
      "0.923 (+/-0.202) for {'algorithm': 'auto', 'n_neighbors': 12}\n",
      "0.923 (+/-0.202) for {'algorithm': 'auto', 'n_neighbors': 13}\n",
      "0.923 (+/-0.202) for {'algorithm': 'auto', 'n_neighbors': 14}\n",
      "0.936 (+/-0.171) for {'algorithm': 'auto', 'n_neighbors': 15}\n",
      "\n",
      "Best Parameter Observed : \n",
      "______________________________\n",
      "\n",
      "{'algorithm': 'auto', 'n_neighbors': 5}\n",
      "\n"
     ]
    }
   ],
   "source": [
    "def knn_hyperparameter_tuning(X_train,y_train):\n",
    "    print(\"Grid Search Utility for Finding an Optimal Value of k\")  \n",
    "    print(\"_\" *55)\n",
    "\n",
    "    # Set the parameters by cross-validation\n",
    "\n",
    "#     tuned_parameters = [{'algorithm': ['auto','brute'], 'n_neighbors': [8,9,10,6,5,3,1,11,12,13,14,16,15]}]\n",
    "    tuned_parameters = [{'algorithm': ['auto'], 'n_neighbors': range(1,16)}]\n",
    "    scores = ['accuracy']\n",
    "    \n",
    "    for score in scores:\n",
    "        print(\"Tuning the hyperparameter for improved %s...\" % score)\n",
    "        print()\n",
    "    \n",
    "        clf = GridSearchCV(KNeighborsClassifier(), tuned_parameters, cv=10,\n",
    "                           scoring='%s' % score)\n",
    "        clf.fit(X_train, y_train)\n",
    "    \n",
    "       \n",
    "        print(\"Achieved Grid Scores :\")\n",
    "        print(\"_\" *30)\n",
    "        print()\n",
    "        means = clf.cv_results_['mean_test_score']\n",
    "        stds = clf.cv_results_['std_test_score']\n",
    "        for mean, std, params in zip(means, stds, clf.cv_results_['params']):\n",
    "                  print(\"%0.3f (+/-%0.03f) for %r\"\n",
    "                  % (mean, std * 2, params))\n",
    "        print()\n",
    "        \n",
    "        print(\"Best Parameter Observed : \")\n",
    "        print(\"_\" *30)\n",
    "        print()\n",
    "        print(clf.best_params_)\n",
    "        print()\n",
    "        \n",
    "        \n",
    "knn_hyperparameter_tuning(train.iloc[:,0:4], train.iloc[:,-1:])"
   ]
  },
  {
   "cell_type": "markdown",
   "metadata": {},
   "source": [
    "#### Task D"
   ]
  },
  {
   "cell_type": "code",
   "execution_count": 16,
   "metadata": {},
   "outputs": [
    {
     "ename": "ValueError",
     "evalue": "could not convert string to float: 'versicolor'",
     "output_type": "error",
     "traceback": [
      "\u001b[0;31m---------------------------------------------------------------------------\u001b[0m",
      "\u001b[0;31mValueError\u001b[0m                                Traceback (most recent call last)",
      "\u001b[0;32m<ipython-input-16-7b889ea7df7e>\u001b[0m in \u001b[0;36m<module>\u001b[0;34m\u001b[0m\n\u001b[1;32m      2\u001b[0m \u001b[0mmodel_knn_c\u001b[0m\u001b[0;34m.\u001b[0m\u001b[0mfit\u001b[0m\u001b[0;34m(\u001b[0m\u001b[0mtrain\u001b[0m\u001b[0;34m.\u001b[0m\u001b[0miloc\u001b[0m\u001b[0;34m[\u001b[0m\u001b[0;34m:\u001b[0m\u001b[0;34m,\u001b[0m\u001b[0;36m0\u001b[0m\u001b[0;34m:\u001b[0m\u001b[0;36m4\u001b[0m\u001b[0;34m]\u001b[0m\u001b[0;34m,\u001b[0m \u001b[0mtrain\u001b[0m\u001b[0;34m.\u001b[0m\u001b[0miloc\u001b[0m\u001b[0;34m[\u001b[0m\u001b[0;34m:\u001b[0m\u001b[0;34m,\u001b[0m\u001b[0;34m-\u001b[0m\u001b[0;36m1\u001b[0m\u001b[0;34m:\u001b[0m\u001b[0;34m]\u001b[0m\u001b[0;34m)\u001b[0m\u001b[0;34m\u001b[0m\u001b[0;34m\u001b[0m\u001b[0m\n\u001b[1;32m      3\u001b[0m \u001b[0;31m# train_score_c = metrics.accuracy_score(train.iloc[:,-1:], model_knn_c.predict(train.iloc[:,0:4]))\u001b[0m\u001b[0;34m\u001b[0m\u001b[0;34m\u001b[0m\u001b[0;34m\u001b[0m\u001b[0m\n\u001b[0;32m----> 4\u001b[0;31m \u001b[0mtrain_score_c\u001b[0m \u001b[0;34m=\u001b[0m \u001b[0mmetrics\u001b[0m\u001b[0;34m.\u001b[0m\u001b[0mmean_squared_error\u001b[0m\u001b[0;34m(\u001b[0m\u001b[0mtrain\u001b[0m\u001b[0;34m.\u001b[0m\u001b[0miloc\u001b[0m\u001b[0;34m[\u001b[0m\u001b[0;34m:\u001b[0m\u001b[0;34m,\u001b[0m\u001b[0;34m-\u001b[0m\u001b[0;36m1\u001b[0m\u001b[0;34m:\u001b[0m\u001b[0;34m]\u001b[0m\u001b[0;34m,\u001b[0m \u001b[0mmodel_knn_c\u001b[0m\u001b[0;34m.\u001b[0m\u001b[0mpredict\u001b[0m\u001b[0;34m(\u001b[0m\u001b[0mtrain\u001b[0m\u001b[0;34m.\u001b[0m\u001b[0miloc\u001b[0m\u001b[0;34m[\u001b[0m\u001b[0;34m:\u001b[0m\u001b[0;34m,\u001b[0m\u001b[0;36m0\u001b[0m\u001b[0;34m:\u001b[0m\u001b[0;36m4\u001b[0m\u001b[0;34m]\u001b[0m\u001b[0;34m)\u001b[0m\u001b[0;34m)\u001b[0m\u001b[0;34m\u001b[0m\u001b[0;34m\u001b[0m\u001b[0m\n\u001b[0m\u001b[1;32m      5\u001b[0m \u001b[0mprint\u001b[0m\u001b[0;34m(\u001b[0m\u001b[0;34m\"Training accuracy:   %0.5f\"\u001b[0m \u001b[0;34m%\u001b[0m \u001b[0mtrain_score_c\u001b[0m\u001b[0;34m)\u001b[0m\u001b[0;34m\u001b[0m\u001b[0;34m\u001b[0m\u001b[0m\n\u001b[1;32m      6\u001b[0m \u001b[0;31m#train_accuracies.append(train_score)\u001b[0m\u001b[0;34m\u001b[0m\u001b[0;34m\u001b[0m\u001b[0;34m\u001b[0m\u001b[0m\n",
      "\u001b[0;32m/usr/local/lib/python3.7/site-packages/sklearn/metrics/_regression.py\u001b[0m in \u001b[0;36mmean_squared_error\u001b[0;34m(y_true, y_pred, sample_weight, multioutput, squared)\u001b[0m\n\u001b[1;32m    250\u001b[0m     \"\"\"\n\u001b[1;32m    251\u001b[0m     y_type, y_true, y_pred, multioutput = _check_reg_targets(\n\u001b[0;32m--> 252\u001b[0;31m         y_true, y_pred, multioutput)\n\u001b[0m\u001b[1;32m    253\u001b[0m     \u001b[0mcheck_consistent_length\u001b[0m\u001b[0;34m(\u001b[0m\u001b[0my_true\u001b[0m\u001b[0;34m,\u001b[0m \u001b[0my_pred\u001b[0m\u001b[0;34m,\u001b[0m \u001b[0msample_weight\u001b[0m\u001b[0;34m)\u001b[0m\u001b[0;34m\u001b[0m\u001b[0;34m\u001b[0m\u001b[0m\n\u001b[1;32m    254\u001b[0m     output_errors = np.average((y_true - y_pred) ** 2, axis=0,\n",
      "\u001b[0;32m/usr/local/lib/python3.7/site-packages/sklearn/metrics/_regression.py\u001b[0m in \u001b[0;36m_check_reg_targets\u001b[0;34m(y_true, y_pred, multioutput, dtype)\u001b[0m\n\u001b[1;32m     83\u001b[0m     \"\"\"\n\u001b[1;32m     84\u001b[0m     \u001b[0mcheck_consistent_length\u001b[0m\u001b[0;34m(\u001b[0m\u001b[0my_true\u001b[0m\u001b[0;34m,\u001b[0m \u001b[0my_pred\u001b[0m\u001b[0;34m)\u001b[0m\u001b[0;34m\u001b[0m\u001b[0;34m\u001b[0m\u001b[0m\n\u001b[0;32m---> 85\u001b[0;31m     \u001b[0my_true\u001b[0m \u001b[0;34m=\u001b[0m \u001b[0mcheck_array\u001b[0m\u001b[0;34m(\u001b[0m\u001b[0my_true\u001b[0m\u001b[0;34m,\u001b[0m \u001b[0mensure_2d\u001b[0m\u001b[0;34m=\u001b[0m\u001b[0;32mFalse\u001b[0m\u001b[0;34m,\u001b[0m \u001b[0mdtype\u001b[0m\u001b[0;34m=\u001b[0m\u001b[0mdtype\u001b[0m\u001b[0;34m)\u001b[0m\u001b[0;34m\u001b[0m\u001b[0;34m\u001b[0m\u001b[0m\n\u001b[0m\u001b[1;32m     86\u001b[0m     \u001b[0my_pred\u001b[0m \u001b[0;34m=\u001b[0m \u001b[0mcheck_array\u001b[0m\u001b[0;34m(\u001b[0m\u001b[0my_pred\u001b[0m\u001b[0;34m,\u001b[0m \u001b[0mensure_2d\u001b[0m\u001b[0;34m=\u001b[0m\u001b[0;32mFalse\u001b[0m\u001b[0;34m,\u001b[0m \u001b[0mdtype\u001b[0m\u001b[0;34m=\u001b[0m\u001b[0mdtype\u001b[0m\u001b[0;34m)\u001b[0m\u001b[0;34m\u001b[0m\u001b[0;34m\u001b[0m\u001b[0m\n\u001b[1;32m     87\u001b[0m \u001b[0;34m\u001b[0m\u001b[0m\n",
      "\u001b[0;32m/usr/local/lib/python3.7/site-packages/sklearn/utils/validation.py\u001b[0m in \u001b[0;36mcheck_array\u001b[0;34m(array, accept_sparse, accept_large_sparse, dtype, order, copy, force_all_finite, ensure_2d, allow_nd, ensure_min_samples, ensure_min_features, warn_on_dtype, estimator)\u001b[0m\n\u001b[1;32m    529\u001b[0m                     \u001b[0marray\u001b[0m \u001b[0;34m=\u001b[0m \u001b[0marray\u001b[0m\u001b[0;34m.\u001b[0m\u001b[0mastype\u001b[0m\u001b[0;34m(\u001b[0m\u001b[0mdtype\u001b[0m\u001b[0;34m,\u001b[0m \u001b[0mcasting\u001b[0m\u001b[0;34m=\u001b[0m\u001b[0;34m\"unsafe\"\u001b[0m\u001b[0;34m,\u001b[0m \u001b[0mcopy\u001b[0m\u001b[0;34m=\u001b[0m\u001b[0;32mFalse\u001b[0m\u001b[0;34m)\u001b[0m\u001b[0;34m\u001b[0m\u001b[0;34m\u001b[0m\u001b[0m\n\u001b[1;32m    530\u001b[0m                 \u001b[0;32melse\u001b[0m\u001b[0;34m:\u001b[0m\u001b[0;34m\u001b[0m\u001b[0;34m\u001b[0m\u001b[0m\n\u001b[0;32m--> 531\u001b[0;31m                     \u001b[0marray\u001b[0m \u001b[0;34m=\u001b[0m \u001b[0mnp\u001b[0m\u001b[0;34m.\u001b[0m\u001b[0masarray\u001b[0m\u001b[0;34m(\u001b[0m\u001b[0marray\u001b[0m\u001b[0;34m,\u001b[0m \u001b[0morder\u001b[0m\u001b[0;34m=\u001b[0m\u001b[0morder\u001b[0m\u001b[0;34m,\u001b[0m \u001b[0mdtype\u001b[0m\u001b[0;34m=\u001b[0m\u001b[0mdtype\u001b[0m\u001b[0;34m)\u001b[0m\u001b[0;34m\u001b[0m\u001b[0;34m\u001b[0m\u001b[0m\n\u001b[0m\u001b[1;32m    532\u001b[0m             \u001b[0;32mexcept\u001b[0m \u001b[0mComplexWarning\u001b[0m\u001b[0;34m:\u001b[0m\u001b[0;34m\u001b[0m\u001b[0;34m\u001b[0m\u001b[0m\n\u001b[1;32m    533\u001b[0m                 raise ValueError(\"Complex data not supported\\n\"\n",
      "\u001b[0;32m/usr/local/lib/python3.7/site-packages/numpy/core/_asarray.py\u001b[0m in \u001b[0;36masarray\u001b[0;34m(a, dtype, order)\u001b[0m\n\u001b[1;32m     83\u001b[0m \u001b[0;34m\u001b[0m\u001b[0m\n\u001b[1;32m     84\u001b[0m     \"\"\"\n\u001b[0;32m---> 85\u001b[0;31m     \u001b[0;32mreturn\u001b[0m \u001b[0marray\u001b[0m\u001b[0;34m(\u001b[0m\u001b[0ma\u001b[0m\u001b[0;34m,\u001b[0m \u001b[0mdtype\u001b[0m\u001b[0;34m,\u001b[0m \u001b[0mcopy\u001b[0m\u001b[0;34m=\u001b[0m\u001b[0;32mFalse\u001b[0m\u001b[0;34m,\u001b[0m \u001b[0morder\u001b[0m\u001b[0;34m=\u001b[0m\u001b[0morder\u001b[0m\u001b[0;34m)\u001b[0m\u001b[0;34m\u001b[0m\u001b[0;34m\u001b[0m\u001b[0m\n\u001b[0m\u001b[1;32m     86\u001b[0m \u001b[0;34m\u001b[0m\u001b[0m\n\u001b[1;32m     87\u001b[0m \u001b[0;34m\u001b[0m\u001b[0m\n",
      "\u001b[0;31mValueError\u001b[0m: could not convert string to float: 'versicolor'"
     ]
    }
   ],
   "source": [
    "model_knn_c = KNeighborsClassifier(n_neighbors=5,algorithm=\"auto\")\n",
    "model_knn_c.fit(train.iloc[:,0:4], train.iloc[:,-1:])\n",
    "train_score_c = metrics.accuracy_score(train.iloc[:,-1:], model_knn_c.predict(train.iloc[:,0:4]))\n",
    "print(\"Training accuracy:   %0.5f\" % train_score_c)\n",
    "#train_accuracies.append(train_score)\n",
    "\n",
    "pred_c = model_knn_c.predict(test.iloc[:,0:4])\n",
    "\n",
    "score_c = metrics.accuracy_score(test.iloc[:,-1:], pred_c)\n",
    "print(\"Validation accuracy:   %0.5f\" % score_c)\n",
    "#test_accuracies.append(score)\n",
    "\n",
    "print(\"Details of Classification\")\n",
    "print(metrics.classification_report(test.iloc[:,-1:], pred_c))\n",
    "\n",
    "print(\"Representation using Confusion matrix:\")\n",
    "print(metrics.confusion_matrix(test.iloc[:,-1:], pred_c))"
   ]
  },
  {
   "cell_type": "markdown",
   "metadata": {},
   "source": [
    "#### Task E"
   ]
  },
  {
   "cell_type": "markdown",
   "metadata": {},
   "source": [
    "run model for k=1,3,5 for cv=5 and calc.. avg score(accuracies).. select the best model"
   ]
  },
  {
   "cell_type": "code",
   "execution_count": 12,
   "metadata": {},
   "outputs": [],
   "source": [
    "from sklearn.model_selection import KFold\n",
    "from sklearn.model_selection import cross_val_score\n"
   ]
  },
  {
   "cell_type": "code",
   "execution_count": 13,
   "metadata": {},
   "outputs": [],
   "source": [
    "kf = KFold(n_splits=5,shuffle=True)\n",
    "\n",
    "k_value = [1,3,5]\n",
    "\n",
    "train_accuracies = []\n",
    "test_accuracies = []"
   ]
  },
  {
   "cell_type": "code",
   "execution_count": 14,
   "metadata": {},
   "outputs": [],
   "source": [
    "df_e = train.iloc[:,0:4]\n",
    "y_e = train.iloc[:,-1:]"
   ]
  },
  {
   "cell_type": "code",
   "execution_count": 15,
   "metadata": {},
   "outputs": [
    {
     "name": "stdout",
     "output_type": "stream",
     "text": [
      "____________________________________________________________\n",
      "K-Value: 1\n",
      "Mean Test Accuracies  0.9733333333333334\n",
      "Average error :   0.026666666666666616\n",
      "____________________________________________________________\n",
      "K-Value: 3\n",
      "Mean Test Accuracies  0.9466666666666667\n",
      "Average error :   0.053333333333333344\n",
      "____________________________________________________________\n",
      "K-Value: 5\n",
      "Mean Test Accuracies  0.96\n",
      "Average error :   0.040000000000000036\n"
     ]
    }
   ],
   "source": [
    "for k in k_value:\n",
    "    \n",
    "    \n",
    "    print(\"_\" *60)\n",
    "    print(\"K-Value: \"+ str(k))\n",
    "    model_knn = KNeighborsClassifier(n_neighbors=k)\n",
    "    \n",
    "    \n",
    "    #all_accuracies = cross_val_score(estimator=model_knn, X=train.iloc[:,0:4], y=train.iloc[:,-1:], cv=5)\n",
    "    #print(all_accuracies)\n",
    "    test_acc_e= []\n",
    "    scores_e = []\n",
    "    for i in range(5):\n",
    "        result = next(kf.split(df_e),None)\n",
    "        X_train_e = df_e.iloc[result[0]]\n",
    "        X_test_e = df_e.iloc[result[1]]\n",
    "        y_train_e = y_e.iloc[result[0]]\n",
    "        y_test_e = y_e.iloc[result[1]]\n",
    "        \n",
    "        model_e = model_knn.fit(X_train_e,y_train_e)\n",
    "        pred_e = model_e.predict(X_test_e)\n",
    "        testacc_e = metrics.accuracy_score(y_test_e, pred_e)\n",
    "        test_acc_e.append(testacc_e)\n",
    "        \n",
    "        scores_e.append(model_e.score(X_test_e,y_test_e))\n",
    "    print(\"Mean Test Accuracies \" , np.mean(test_acc_e))\n",
    "    print(\"Average error :  \", (1-np.mean(scores_e)))\n",
    "    \n",
    "        \n",
    "    \"\"\"\n",
    "    model_knn.fit(train.iloc[:,0:4], train.iloc[:,-1:])\n",
    "    train_score = metrics.accuracy_score(train.iloc[:,-1:], model_knn.predict(train.iloc[:,0:4]))\n",
    "    print(\"Train accuracy:   %0.5f\" % all_accuracies.mean())\n",
    "    train_accuracies.append(all_accuracies.mean())\n",
    "    \n",
    "    \n",
    "    pred = model_knn.predict(validate.iloc[:,0:4])\n",
    "\n",
    "    score = metrics.accuracy_score(validate.iloc[:,-1:], pred)\n",
    "    print(\"Validate accuracy:   %0.5f\" % score)\n",
    "    test_accuracies.append(score)\n",
    "\n",
    "    print(\"classification report:\")\n",
    "    print(metrics.classification_report(validate.iloc[:,-1:], pred))\n",
    "\n",
    "    print(\"confusion matrix:\")\n",
    "    print(metrics.confusion_matrix(validate.iloc[:,-1:], pred))\n",
    "    \n",
    "    \"\"\""
   ]
  },
  {
   "cell_type": "markdown",
   "metadata": {},
   "source": [
    "#### Task f"
   ]
  },
  {
   "cell_type": "code",
   "execution_count": null,
   "metadata": {},
   "outputs": [],
   "source": []
  }
 ],
 "metadata": {
  "kernelspec": {
   "display_name": "Python 3",
   "language": "python",
   "name": "python3"
  },
  "language_info": {
   "codemirror_mode": {
    "name": "ipython",
    "version": 3
   },
   "file_extension": ".py",
   "mimetype": "text/x-python",
   "name": "python",
   "nbconvert_exporter": "python",
   "pygments_lexer": "ipython3",
   "version": "3.7.7"
  }
 },
 "nbformat": 4,
 "nbformat_minor": 2
}
