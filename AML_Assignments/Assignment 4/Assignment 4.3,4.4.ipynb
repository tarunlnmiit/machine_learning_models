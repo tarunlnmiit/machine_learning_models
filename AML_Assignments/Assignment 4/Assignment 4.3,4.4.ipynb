{
 "cells": [
  {
   "cell_type": "code",
   "execution_count": 8,
   "metadata": {},
   "outputs": [],
   "source": [
    "import numpy as np\n",
    "import pandas as pd\n",
    "import matplotlib.pyplot as plt\n",
    "import seaborn as sns\n",
    "\n",
    "\n",
    "import warnings\n",
    "warnings.filterwarnings(\"ignore\")"
   ]
  },
  {
   "cell_type": "code",
   "execution_count": 9,
   "metadata": {},
   "outputs": [],
   "source": [
    "from sklearn.datasets import load_breast_cancer"
   ]
  },
  {
   "cell_type": "code",
   "execution_count": 10,
   "metadata": {},
   "outputs": [
    {
     "data": {
      "text/plain": [
       "((569, 30), (569,))"
      ]
     },
     "execution_count": 10,
     "metadata": {},
     "output_type": "execute_result"
    }
   ],
   "source": [
    "X,y = load_breast_cancer(return_X_y=True)\n",
    "\n",
    "X.shape,y.shape"
   ]
  },
  {
   "cell_type": "code",
   "execution_count": 11,
   "metadata": {},
   "outputs": [],
   "source": [
    "from sklearn.linear_model import LogisticRegression\n",
    "from sklearn.naive_bayes import MultinomialNB\n",
    "from sklearn.model_selection import train_test_split\n",
    "from sklearn import metrics\n"
   ]
  },
  {
   "cell_type": "code",
   "execution_count": 12,
   "metadata": {},
   "outputs": [],
   "source": [
    "X_train, X_test, y_train, y_test = train_test_split(X, y, test_size=0.33, shuffle=True,random_state=42)\n"
   ]
  },
  {
   "cell_type": "code",
   "execution_count": 13,
   "metadata": {},
   "outputs": [
    {
     "data": {
      "text/plain": [
       "LogisticRegression(C=1.0, class_weight=None, dual=False, fit_intercept=True,\n",
       "                   intercept_scaling=1, l1_ratio=None, max_iter=100,\n",
       "                   multi_class='auto', n_jobs=None, penalty='l2',\n",
       "                   random_state=42, solver='lbfgs', tol=0.0001, verbose=0,\n",
       "                   warm_start=False)"
      ]
     },
     "execution_count": 13,
     "metadata": {},
     "output_type": "execute_result"
    }
   ],
   "source": [
    "model_lg1 = LogisticRegression(penalty=\"l2\",random_state=42)\n",
    "model_lg1.fit(X_train, y_train)"
   ]
  },
  {
   "cell_type": "code",
   "execution_count": 14,
   "metadata": {},
   "outputs": [
    {
     "name": "stdout",
     "output_type": "stream",
     "text": [
      "Train accuracy:   0.95538\n",
      "Test accuracy:   0.96277\n",
      "classification report:\n",
      "              precision    recall  f1-score   support\n",
      "\n",
      "           0       0.95      0.94      0.95        67\n",
      "           1       0.97      0.98      0.97       121\n",
      "\n",
      "    accuracy                           0.96       188\n",
      "   macro avg       0.96      0.96      0.96       188\n",
      "weighted avg       0.96      0.96      0.96       188\n",
      "\n",
      "confusion matrix:\n",
      "[[ 63   4]\n",
      " [  3 118]]\n"
     ]
    }
   ],
   "source": [
    "train_score = metrics.accuracy_score(y_train, model_lg1.predict(X_train))\n",
    "print(\"Train accuracy:   %0.5f\" % train_score)\n",
    "\n",
    "pred = model_lg1.predict(X_test)\n",
    "    \n",
    "score = metrics.accuracy_score(y_test, pred)\n",
    "print(\"Test accuracy:   %0.5f\" % score)\n",
    "\n",
    "print(\"classification report:\")\n",
    "print(metrics.classification_report(y_test, pred))\n",
    "\n",
    "print(\"confusion matrix:\")\n",
    "print(metrics.confusion_matrix(y_test, pred))"
   ]
  },
  {
   "cell_type": "code",
   "execution_count": 15,
   "metadata": {},
   "outputs": [
    {
     "data": {
      "text/plain": [
       "MultinomialNB(alpha=1.5, class_prior=None, fit_prior=True)"
      ]
     },
     "execution_count": 15,
     "metadata": {},
     "output_type": "execute_result"
    }
   ],
   "source": [
    "model_nb = MultinomialNB(alpha=1.5)\n",
    "model_nb.fit(X_train, y_train)"
   ]
  },
  {
   "cell_type": "code",
   "execution_count": 16,
   "metadata": {},
   "outputs": [
    {
     "name": "stdout",
     "output_type": "stream",
     "text": [
      "Train accuracy:   0.88451\n",
      "Test accuracy:   0.96277\n",
      "classification report:\n",
      "              precision    recall  f1-score   support\n",
      "\n",
      "           0       0.95      0.94      0.95        67\n",
      "           1       0.97      0.98      0.97       121\n",
      "\n",
      "    accuracy                           0.96       188\n",
      "   macro avg       0.96      0.96      0.96       188\n",
      "weighted avg       0.96      0.96      0.96       188\n",
      "\n",
      "confusion matrix:\n",
      "[[ 63   4]\n",
      " [  3 118]]\n"
     ]
    }
   ],
   "source": [
    "train_score2 = metrics.accuracy_score(y_train, model_nb.predict(X_train))\n",
    "print(\"Train accuracy:   %0.5f\" % train_score2)\n",
    "\n",
    "pred2 = model_lg1.predict(X_test)\n",
    "    \n",
    "score2 = metrics.accuracy_score(y_test, pred2)\n",
    "print(\"Test accuracy:   %0.5f\" % score2)\n",
    "\n",
    "print(\"classification report:\")\n",
    "print(metrics.classification_report(y_test, pred2))\n",
    "\n",
    "print(\"confusion matrix:\")\n",
    "print(metrics.confusion_matrix(y_test, pred2))"
   ]
  },
  {
   "cell_type": "markdown",
   "metadata": {},
   "source": [
    "### Task A --- > Report the hyperparameters done in the above cells .. check and report them accordingly. "
   ]
  },
  {
   "cell_type": "markdown",
   "metadata": {},
   "source": [
    "### Task B---> Learning curves"
   ]
  },
  {
   "cell_type": "code",
   "execution_count": 17,
   "metadata": {},
   "outputs": [],
   "source": [
    "from sklearn.model_selection import learning_curve\n"
   ]
  },
  {
   "cell_type": "code",
   "execution_count": 18,
   "metadata": {},
   "outputs": [],
   "source": [
    "X_train, X_test, y_train, y_test = train_test_split(X, y, test_size=0.33, shuffle=True, stratify= y,random_state=42)\n"
   ]
  },
  {
   "cell_type": "code",
   "execution_count": 19,
   "metadata": {},
   "outputs": [
    {
     "name": "stdout",
     "output_type": "stream",
     "text": [
      "[[  0 142]\n",
      " [  1 239]]\n"
     ]
    }
   ],
   "source": [
    "## Frequency check for unique values\n",
    "\n",
    "(unique, counts) = np.unique(y_train, return_counts=True)\n",
    "\n",
    "frequencies = np.asarray((unique, counts)).T\n",
    "print(frequencies)"
   ]
  },
  {
   "cell_type": "code",
   "execution_count": 20,
   "metadata": {},
   "outputs": [],
   "source": [
    "train_size_pass = [0.2,0.4,0.6,0.8,1.0]"
   ]
  },
  {
   "cell_type": "markdown",
   "metadata": {},
   "source": [
    "### Logistic regression LC"
   ]
  },
  {
   "cell_type": "code",
   "execution_count": 21,
   "metadata": {},
   "outputs": [],
   "source": [
    "train_sizes_lg, train_scores_lg, validation_scores_lg = learning_curve(estimator = model_lg1,\n",
    "                                                              X = X_train,y = y_train, train_sizes = train_size_pass, \n",
    "                                                              cv = 5,n_jobs=-1,scoring = 'neg_mean_squared_error')"
   ]
  },
  {
   "cell_type": "markdown",
   "metadata": {},
   "source": [
    "### NB Learning curve"
   ]
  },
  {
   "cell_type": "code",
   "execution_count": 22,
   "metadata": {},
   "outputs": [],
   "source": [
    "train_sizes_nb, train_scores_nb, validation_scores_nb = learning_curve(estimator = model_nb,\n",
    "                                                              X = X_train,y = y_train, train_sizes = train_size_pass, \n",
    "                                                              cv = 5,n_jobs=-1,scoring = 'neg_mean_squared_error')"
   ]
  },
  {
   "cell_type": "code",
   "execution_count": 23,
   "metadata": {},
   "outputs": [
    {
     "data": {
      "text/plain": [
       "<matplotlib.legend.Legend at 0x1250bef50>"
      ]
     },
     "execution_count": 23,
     "metadata": {},
     "output_type": "execute_result"
    },
    {
     "data": {
      "image/png": "[encoded data removed]",
      "text/plain": [
       "<Figure size 1008x576 with 1 Axes>"
      ]
     },
     "metadata": {
      "needs_background": "light"
     },
     "output_type": "display_data"
    }
   ],
   "source": [
    "#if axes is None:\n",
    "_, axes = plt.subplots(1, 1, figsize=(14, 8))\n",
    "\n",
    "axes.set_title(\"Learning Curves for Breast Cancer Data\")\n",
    "#if ylim is not None:\n",
    "#    axes[0].set_ylim(*ylim)\n",
    "axes.set_xlabel(\"Training examples\")\n",
    "axes.set_ylabel(\"Score\")\n",
    "\n",
    "train_scores_mean_lg = -train_scores_lg.mean(axis = 1)\n",
    "train_scores_mean_nb = -train_scores_nb.mean(axis = 1)\n",
    "\n",
    "\n",
    "#train_scores_mean_lg = np.mean(train_scores_lg, axis=1)\n",
    "train_scores_std_lg = np.std(-train_scores_lg, axis=1)\n",
    "#train_scores_mean_nb = np.mean(train_scores_nb, axis=1)\n",
    "train_scores_std_nb = np.std(-train_scores_nb, axis=1)\n",
    "#test_scores_mean = np.mean(test_scores, axis=1)\n",
    "#test_scores_std = np.std(test_scores, axis=1)\n",
    "\n",
    "\n",
    "\n",
    "# Plot learning curve\n",
    "#axes[0].grid()\n",
    "axes.fill_between(train_sizes_lg, train_scores_mean_lg - train_scores_std_lg,\n",
    "                     train_scores_mean_lg + train_scores_std_lg, alpha=0.1,\n",
    "                     color=\"r\")\n",
    "axes.fill_between(train_sizes_nb, train_scores_mean_nb - train_scores_std_nb,\n",
    "                     train_scores_mean_nb + train_scores_std_nb, alpha=0.1,\n",
    "                     color=\"g\")\n",
    "axes.plot(train_sizes_lg, train_scores_mean_lg, 'o-', color=\"r\",\n",
    "             label=\"Logistic Regression\")\n",
    "axes.plot(train_sizes_nb, train_scores_mean_nb, 'x-', color=\"g\",\n",
    "             label=\"Naive Bayes\")\n",
    "axes.legend(loc=\"best\")"
   ]
  },
  {
   "cell_type": "code",
   "execution_count": 17,
   "metadata": {},
   "outputs": [
    {
     "data": {
      "text/plain": [
       "(381, 30)"
      ]
     },
     "execution_count": 17,
     "metadata": {},
     "output_type": "execute_result"
    }
   ],
   "source": [
    "X_train.shape"
   ]
  },
  {
   "cell_type": "code",
   "execution_count": 18,
   "metadata": {},
   "outputs": [
    {
     "data": {
      "text/plain": [
       "array([ 60, 121, 182, 243, 304])"
      ]
     },
     "execution_count": 18,
     "metadata": {},
     "output_type": "execute_result"
    }
   ],
   "source": [
    "train_sizes_lg"
   ]
  },
  {
   "cell_type": "markdown",
   "metadata": {},
   "source": [
    "# Assignment 4.4"
   ]
  },
  {
   "cell_type": "code",
   "execution_count": 19,
   "metadata": {},
   "outputs": [],
   "source": [
    "from sklearn.datasets import fetch_20newsgroups\n",
    "from pprint import pprint\n",
    "from sklearn.feature_extraction.text import CountVectorizer"
   ]
  },
  {
   "cell_type": "code",
   "execution_count": 20,
   "metadata": {},
   "outputs": [],
   "source": [
    "# Categories to select while selecting data\n",
    "\n",
    "categories = ['alt.atheism',\n",
    " 'comp.graphics',\n",
    " 'comp.os.ms-windows.misc',\n",
    " 'comp.sys.ibm.pc.hardware',\n",
    " 'comp.sys.mac.hardware']\n"
   ]
  },
  {
   "cell_type": "code",
   "execution_count": 21,
   "metadata": {},
   "outputs": [
    {
     "data": {
      "text/plain": [
       "sklearn.utils.Bunch"
      ]
     },
     "execution_count": 21,
     "metadata": {},
     "output_type": "execute_result"
    }
   ],
   "source": [
    "newsgroup_data = fetch_20newsgroups(subset='all', categories=categories,shuffle=True, random_state=42,remove=('headers', 'footers', 'quotes'))\n",
    "\n",
    "type(newsgroup_data)"
   ]
  },
  {
   "cell_type": "code",
   "execution_count": 22,
   "metadata": {},
   "outputs": [],
   "source": [
    "X = newsgroup_data.data\n",
    "y = newsgroup_data.target"
   ]
  },
  {
   "cell_type": "code",
   "execution_count": 23,
   "metadata": {},
   "outputs": [
    {
     "data": {
      "text/plain": [
       "(4702,)"
      ]
     },
     "execution_count": 23,
     "metadata": {},
     "output_type": "execute_result"
    }
   ],
   "source": [
    "y.shape"
   ]
  },
  {
   "cell_type": "code",
   "execution_count": 24,
   "metadata": {},
   "outputs": [
    {
     "name": "stdout",
     "output_type": "stream",
     "text": [
      "(4702, 70469)\n",
      "70469\n"
     ]
    }
   ],
   "source": [
    "vectorizer = CountVectorizer(max_df=1.0,stop_words='english')\n",
    "X = vectorizer.fit_transform(X)\n",
    "#X_test = vectorizer.transform(X_test)\n",
    "\n",
    "feature_names = vectorizer.get_feature_names()\n",
    "\n",
    "print(X.shape)\n",
    "#print(X_test.shape)\n",
    "print(len(feature_names))\n"
   ]
  },
  {
   "cell_type": "code",
   "execution_count": 25,
   "metadata": {},
   "outputs": [
    {
     "name": "stdout",
     "output_type": "stream",
     "text": [
      "(3150, 70469)\n",
      "(1552, 70469)\n",
      "(3150,)\n",
      "(1552,)\n"
     ]
    }
   ],
   "source": [
    "X_train, X_test, y_train, y_test = train_test_split(X, y, test_size=0.33, shuffle=True, stratify= y,random_state=42)\n",
    "\n",
    "print(X_train.shape)\n",
    "print(X_test.shape)\n",
    "print(y_train.shape)\n",
    "print(y_test.shape)"
   ]
  },
  {
   "cell_type": "code",
   "execution_count": 26,
   "metadata": {},
   "outputs": [
    {
     "data": {
      "text/plain": [
       "LogisticRegression(C=1.0, class_weight=None, dual=False, fit_intercept=True,\n",
       "                   intercept_scaling=1, l1_ratio=None, max_iter=100,\n",
       "                   multi_class='warn', n_jobs=None, penalty='l2',\n",
       "                   random_state=42, solver='warn', tol=0.0001, verbose=0,\n",
       "                   warm_start=False)"
      ]
     },
     "execution_count": 26,
     "metadata": {},
     "output_type": "execute_result"
    }
   ],
   "source": [
    "model_lg2 = LogisticRegression(penalty=\"l2\",random_state=42)\n",
    "model_lg2.fit(X_train, y_train)"
   ]
  },
  {
   "cell_type": "code",
   "execution_count": 27,
   "metadata": {},
   "outputs": [
    {
     "name": "stdout",
     "output_type": "stream",
     "text": [
      "Train accuracy:   0.97619\n",
      "Test accuracy:   0.77191\n",
      "classification report:\n",
      "              precision    recall  f1-score   support\n",
      "\n",
      "           0       0.92      0.89      0.91       264\n",
      "           1       0.79      0.73      0.76       321\n",
      "           2       0.75      0.78      0.76       325\n",
      "           3       0.74      0.69      0.71       324\n",
      "           4       0.70      0.80      0.74       318\n",
      "\n",
      "    accuracy                           0.77      1552\n",
      "   macro avg       0.78      0.78      0.78      1552\n",
      "weighted avg       0.77      0.77      0.77      1552\n",
      "\n",
      "confusion matrix:\n",
      "[[236   5   8   1  14]\n",
      " [ 10 235  28  20  28]\n",
      " [  2  25 252  24  22]\n",
      " [  4  21  32 222  45]\n",
      " [  5  11  17  32 253]]\n"
     ]
    }
   ],
   "source": [
    "train_score = metrics.accuracy_score(y_train, model_lg2.predict(X_train))\n",
    "print(\"Train accuracy:   %0.5f\" % train_score)\n",
    "\n",
    "pred = model_lg2.predict(X_test)\n",
    "    \n",
    "score = metrics.accuracy_score(y_test, pred)\n",
    "print(\"Test accuracy:   %0.5f\" % score)\n",
    "\n",
    "print(\"classification report:\")\n",
    "print(metrics.classification_report(y_test, pred))\n",
    "\n",
    "print(\"confusion matrix:\")\n",
    "print(metrics.confusion_matrix(y_test, pred))"
   ]
  },
  {
   "cell_type": "code",
   "execution_count": 28,
   "metadata": {},
   "outputs": [
    {
     "data": {
      "text/plain": [
       "MultinomialNB(alpha=0.2, class_prior=None, fit_prior=True)"
      ]
     },
     "execution_count": 28,
     "metadata": {},
     "output_type": "execute_result"
    }
   ],
   "source": [
    "model_nb1 = MultinomialNB(alpha=0.2)\n",
    "model_nb1.fit(X_train, y_train)"
   ]
  },
  {
   "cell_type": "code",
   "execution_count": 29,
   "metadata": {},
   "outputs": [
    {
     "name": "stdout",
     "output_type": "stream",
     "text": [
      "Train accuracy:   0.77651\n",
      "Test accuracy:   0.67397\n",
      "classification report:\n",
      "              precision    recall  f1-score   support\n",
      "\n",
      "           0       0.91      0.94      0.92       264\n",
      "           1       0.66      0.79      0.72       321\n",
      "           2       0.37      0.07      0.11       325\n",
      "           3       0.59      0.80      0.68       324\n",
      "           4       0.67      0.83      0.74       318\n",
      "\n",
      "    accuracy                           0.67      1552\n",
      "   macro avg       0.64      0.68      0.63      1552\n",
      "weighted avg       0.63      0.67      0.62      1552\n",
      "\n",
      "confusion matrix:\n",
      "[[247   2   6   4   5]\n",
      " [ 13 254  11  25  18]\n",
      " [  7 108  22 122  66]\n",
      " [  1  12   8 260  43]\n",
      " [  4  10  12  29 263]]\n"
     ]
    }
   ],
   "source": [
    "train_score2 = metrics.accuracy_score(y_train, model_nb1.predict(X_train))\n",
    "print(\"Train accuracy:   %0.5f\" % train_score2)\n",
    "\n",
    "pred2 = model_nb1.predict(X_test)\n",
    "    \n",
    "score2 = metrics.accuracy_score(y_test, pred2)\n",
    "print(\"Test accuracy:   %0.5f\" % score2)\n",
    "\n",
    "print(\"classification report:\")\n",
    "print(metrics.classification_report(y_test, pred2))\n",
    "\n",
    "print(\"confusion matrix:\")\n",
    "print(metrics.confusion_matrix(y_test, pred2))"
   ]
  },
  {
   "cell_type": "markdown",
   "metadata": {},
   "source": [
    "### Task C"
   ]
  },
  {
   "cell_type": "code",
   "execution_count": 30,
   "metadata": {},
   "outputs": [],
   "source": [
    "from mlxtend.evaluate import paired_ttest_5x2cv"
   ]
  },
  {
   "cell_type": "code",
   "execution_count": 31,
   "metadata": {},
   "outputs": [
    {
     "name": "stdout",
     "output_type": "stream",
     "text": [
      "t statistic: 6.104\n",
      "p value: 0.002\n"
     ]
    }
   ],
   "source": [
    "t, p = paired_ttest_5x2cv(estimator1=model_lg2,\n",
    "                          estimator2=model_nb1,\n",
    "                          X=X, y=y,\n",
    "                          random_seed=42)\n",
    "\n",
    "print('t statistic: %.3f' % t)\n",
    "print('p value: %.3f' % p)"
   ]
  },
  {
   "cell_type": "code",
   "execution_count": null,
   "metadata": {},
   "outputs": [],
   "source": []
  }
 ],
 "metadata": {
  "kernelspec": {
   "display_name": "Python 3",
   "language": "python",
   "name": "python3"
  },
  "language_info": {
   "codemirror_mode": {
    "name": "ipython",
    "version": 3
   },
   "file_extension": ".py",
   "mimetype": "text/x-python",
   "name": "python",
   "nbconvert_exporter": "python",
   "pygments_lexer": "ipython3",
   "version": "3.7.7"
  }
 },
 "nbformat": 4,
 "nbformat_minor": 2
}
