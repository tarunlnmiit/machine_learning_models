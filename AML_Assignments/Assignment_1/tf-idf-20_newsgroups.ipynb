{
 "cells": [
  {
   "cell_type": "code",
   "execution_count": 1,
   "metadata": {
    "pycharm": {
     "is_executing": false
    }
   },
   "outputs": [
    {
     "name": "stdout",
     "text": [
      "Loading 20 newsgroups dataset for categories:\n",
      "None\n",
      "18846 documents\n",
      "20 categories\n",
      "\n",
      "Extracting features from the training dataset using a sparse vectorizer\n",
      "[ 4.22537005  4.30596921  8.35920238 ... 10.15096185  9.45781467\n",
      " 10.15096185]\n",
      "           idf\n",
      "pens  0.552562\n",
      "jagr  0.220593\n",
      "               idf\n",
      "vlb       0.344905\n",
      "mblawson  0.275926\n",
      "               idf\n",
      "hilmi     0.291648\n",
      "elchibey  0.240976\n",
      "          idf\n",
      "bus  0.399065\n",
      "dma  0.394777\n",
      "                  idf\n",
      "jasmine      0.319158\n",
      "inexpensive  0.241459\n",
      "            idf\n",
      "myers  0.312964\n",
      "unc    0.276462\n",
      "             idf\n",
      "tamuts  0.404392\n",
      "tamu    0.319555\n",
      "           idf\n",
      "ists  0.361157\n",
      "stpl  0.270868\n",
      "              idf\n",
      "ists     0.349628\n",
      "buffalo  0.255924\n",
      "               idf\n",
      "arromdee  0.405885\n",
      "turkey    0.345344\n"
     ],
     "output_type": "stream"
    }
   ],
   "source": [
    "from sklearn.datasets import fetch_20newsgroups\n",
    "from sklearn.feature_extraction.text import TfidfVectorizer\n",
    "from sklearn.feature_extraction.text import TfidfTransformer\n",
    "from time import time\n",
    "\n",
    "import numpy as np\n",
    "import pandas as pd\n",
    "\n",
    "\n",
    "# #############################################################################\n",
    "# Load some categories from the training set\n",
    "categories = [\n",
    "    'alt.atheism',\n",
    "    'talk.religion.misc',\n",
    "    'comp.graphics',\n",
    "    'sci.space',\n",
    "]\n",
    "# Uncomment the following to do the analysis on all the categories\n",
    "categories = None\n",
    "\n",
    "print(\"Loading 20 newsgroups dataset for categories:\")\n",
    "print(categories)\n",
    "\n",
    "dataset = fetch_20newsgroups(subset='all', categories=categories,\n",
    "                             shuffle=True, random_state=42)\n",
    "\n",
    "print(\"%d documents\" % len(dataset.data))\n",
    "print(\"%d categories\" % len(dataset.target_names))\n",
    "print()\n",
    "\n",
    "labels = dataset.target\n",
    "true_k = np.unique(labels).shape[0]\n",
    "\n",
    "print(\"Extracting features from the training dataset \"\n",
    "      \"using a sparse vectorizer\")\n",
    "\n",
    "vectorizer = TfidfVectorizer(stop_words='english', use_idf=True)\n",
    "X = vectorizer.fit_transform(dataset.data)\n",
    "print(vectorizer.idf_)\n",
    "for i in range(10):\n",
    "    df = pd.DataFrame(X[i].T.todense(), index=vectorizer.get_feature_names(), columns=['idf'])\n",
    "    print(df.sort_values(by=['idf'], ascending=False)[:2])\n"
   ]
  },
  {
   "cell_type": "code",
   "execution_count": 1,
   "metadata": {
    "pycharm": {
     "is_executing": false
    }
   },
   "outputs": [],
   "source": []
  }
 ],
 "metadata": {
  "kernelspec": {
   "display_name": "Python 3",
   "language": "python",
   "name": "python3"
  },
  "language_info": {
   "codemirror_mode": {
    "name": "ipython",
    "version": 3
   },
   "file_extension": ".py",
   "mimetype": "text/x-python",
   "name": "python",
   "nbconvert_exporter": "python",
   "pygments_lexer": "ipython3",
   "version": "3.7.7"
  },
  "pycharm": {
   "stem_cell": {
    "cell_type": "raw",
    "source": [],
    "metadata": {
     "collapsed": false
    }
   }
  }
 },
 "nbformat": 4,
 "nbformat_minor": 1
}